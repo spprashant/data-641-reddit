{
 "cells": [
  {
   "cell_type": "code",
   "execution_count": 1,
   "metadata": {},
   "outputs": [
    {
     "name": "stderr",
     "output_type": "stream",
     "text": [
      "[nltk_data] Downloading package stopwords to\n",
      "[nltk_data]     C:\\Users\\Prashant\\AppData\\Roaming\\nltk_data...\n",
      "[nltk_data]   Package stopwords is already up-to-date!\n"
     ]
    }
   ],
   "source": [
    "'''\n",
    "This notebook expects the data to be in the \"CL class project materials\" folder in the root folder\n",
    "Install the pandas, numpy, nltk, empath libraries atleast before running this\n",
    "'''\n",
    "\n",
    "import pandas as pd\n",
    "import numpy as np\n",
    "import spacy\n",
    "from spacy.tokenizer import Tokenizer\n",
    "from spacy.lang.en import English\n",
    "from sklearn.linear_model import LogisticRegression\n",
    "from sklearn.svm import SVC\n",
    "from sklearn.feature_extraction.text import CountVectorizer\n",
    "from sklearn.model_selection import  KFold, StratifiedKFold, cross_val_score, train_test_split\n",
    "from sklearn.ensemble import RandomForestClassifier\n",
    "import sklearn.metrics as metrics\n",
    "from collections import Counter\n",
    "import re\n",
    "import string\n",
    "import nltk\n",
    "from nltk.corpus import stopwords \n",
    "from imblearn.over_sampling import SMOTE, RandomOverSampler\n",
    "nltk.download('stopwords')\n",
    "\n",
    "from tqdm import tqdm\n",
    "\n",
    "from empath import Empath\n",
    "from scipy import sparse\n"
   ]
  },
  {
   "cell_type": "code",
   "execution_count": 2,
   "metadata": {},
   "outputs": [],
   "source": [
    "import re\n",
    "import string\n",
    "\n",
    "'''\n",
    "Helper functions\n",
    "'''\n",
    "def normalize_tokens(tokenlist):\n",
    "    normalized_tokens = [token.lower().replace('_','+') for token in tokenlist   \n",
    "                             if re.search('[^\\s]', token) is not None            \n",
    "                             and not token.startswith(\"@\")                       \n",
    "                        ]\n",
    "    return normalized_tokens        \n",
    "\n",
    "def ngrams(tokens, n):\n",
    "    return [tokens[i:i+n] for i in range(len(tokens)-n+1)]\n",
    "\n",
    "def filter_punctuation_bigrams(ngrams):\n",
    "    punct = string.punctuation\n",
    "    return [ngram   for ngram in ngrams   if ngram[0] not in punct and ngram[1] not in punct]\n",
    "\n",
    "def filter_stopword_bigrams(ngrams, stopwords):\n",
    "    result = [ngram   for ngram in ngrams   if ngram[0] not in stopwords and ngram[1] not in stopwords]\n",
    "    return result\n",
    "\n",
    "def whitespace_tokenizer(line):\n",
    "    return line.split() "
   ]
  },
  {
   "cell_type": "code",
   "execution_count": 3,
   "metadata": {},
   "outputs": [],
   "source": [
    "'''\n",
    "Helper functions for convert text lines to features\n",
    "'''\n",
    "\n",
    "\n",
    "nlp = spacy.load('en_core_web_sm')    \n",
    "\n",
    "\n",
    "def convert_lines_to_feature_strings(line, stopwords, remove_stopword_bigrams=True):\n",
    "    line = line.translate(str.maketrans('', '', string.punctuation))\n",
    "    spacy_analysis = nlp(line)\n",
    "    spacy_tokens = [token.orth_ for token in spacy_analysis]\n",
    "    normalized_tokens = normalize_tokens(spacy_tokens)\n",
    "\n",
    "    unigrams          = [token   for token in normalized_tokens\n",
    "                             if token not in stopwords and token not in string.punctuation]\n",
    "\n",
    "    bigrams = []\n",
    "    bigram_tokens     = [\"_\".join(bigram) for bigram in bigrams]\n",
    "    bigrams           = ngrams(normalized_tokens, 2) \n",
    "    bigrams           = filter_punctuation_bigrams(bigrams)\n",
    "    if remove_stopword_bigrams:\n",
    "        bigrams = filter_stopword_bigrams(bigrams, stopwords)\n",
    "    bigram_tokens = [\"_\".join(bigram) for bigram in bigrams]\n",
    "    feature_string = \" \".join ([\" \".join(unigrams),\" \".join(bigram_tokens)])\n",
    "    return feature_string\n",
    "\n",
    "\n",
    "\n",
    "\n",
    "def convert_text_into_features(X, stopwords_arg, analyzefn=\"word\", range=(1,2), vocabulary=None):\n",
    "    training_vectorizer = CountVectorizer(stop_words=stopwords_arg,\n",
    "                                          analyzer=analyzefn,\n",
    "                                          lowercase=True,\n",
    "                                          ngram_range=range,\n",
    "                                          vocabulary=vocabulary)\n",
    "    X_features = training_vectorizer.fit_transform(X)\n",
    "    return X_features, training_vectorizer"
   ]
  },
  {
   "cell_type": "code",
   "execution_count": 4,
   "metadata": {},
   "outputs": [],
   "source": [
    "lexicon = Empath()\n",
    "'''\n",
    "Convert text to emotion score features\n",
    "'''\n",
    "def line_to_emotion_features(lines, lexicon, categories=[\"negative_emotion\", \"positive_emotion\",\"pain\",\"poor\",\"disappointment\"], normalize=False):\n",
    "    scores = []\n",
    "    for line in lines:\n",
    "        score_dict = lexicon.analyze(line, categories=categories, normalize=normalize)\n",
    "        if score_dict:\n",
    "            score = [score_dict[cat] for cat in categories]\n",
    "        else:\n",
    "            score = [0 for cat in categories]\n",
    "        scores.append(score)\n",
    "    return sparse.csr_matrix(np.array(scores))"
   ]
  },
  {
   "cell_type": "code",
   "execution_count": 6,
   "metadata": {},
   "outputs": [
    {
     "data": {
      "text/plain": [
       "array([[0., 0., 0., 0., 0.],\n",
       "       [1., 0., 1., 0., 0.],\n",
       "       [0., 1., 0., 0., 0.]])"
      ]
     },
     "execution_count": 6,
     "metadata": {},
     "output_type": "execute_result"
    }
   ],
   "source": [
    "#!pip3.7 install empath\n",
    "'''\n",
    "Stub block\n",
    "'''\n",
    "text='the cool cat is in the box'\n",
    "\n",
    "print(text)\n",
    "text = text.translate(str.maketrans('', '', string.punctuation))\n",
    "print(text)\n",
    "spacy_analysis = nlp(text)\n",
    "spacy_tokens = [token.orth_ for token in spacy_analysis]\n",
    "spacy_nouns = [x for x in spacy_analysis.noun_chunks]\n",
    "print(spacy_nouns)\n",
    "normalized_tokens = normalize_tokens(spacy_tokens)\n",
    "\n",
    "\n",
    "lexicon = Empath()\n",
    "\n",
    "lines=['what the fuck','i will kill myself','i love cocaine']\n",
    "\n",
    "#lines.apply(line_to_emotion_features, args=(lexicon, [\"negative_emotion\", \"positive_emotion\"]))\n",
    "\n",
    "line_to_emotion_features(lines, lexicon)"
   ]
  },
  {
   "cell_type": "code",
   "execution_count": 5,
   "metadata": {},
   "outputs": [
    {
     "data": {
      "text/html": [
       "<div>\n",
       "<style scoped>\n",
       "    .dataframe tbody tr th:only-of-type {\n",
       "        vertical-align: middle;\n",
       "    }\n",
       "\n",
       "    .dataframe tbody tr th {\n",
       "        vertical-align: top;\n",
       "    }\n",
       "\n",
       "    .dataframe thead th {\n",
       "        text-align: right;\n",
       "    }\n",
       "</style>\n",
       "<table border=\"1\" class=\"dataframe\">\n",
       "  <thead>\n",
       "    <tr style=\"text-align: right;\">\n",
       "      <th></th>\n",
       "      <th>user_id</th>\n",
       "      <th>label</th>\n",
       "    </tr>\n",
       "  </thead>\n",
       "  <tbody>\n",
       "    <tr>\n",
       "      <th>0</th>\n",
       "      <td>40130</td>\n",
       "      <td>a</td>\n",
       "    </tr>\n",
       "    <tr>\n",
       "      <th>1</th>\n",
       "      <td>19368</td>\n",
       "      <td>a</td>\n",
       "    </tr>\n",
       "    <tr>\n",
       "      <th>2</th>\n",
       "      <td>20841</td>\n",
       "      <td>a</td>\n",
       "    </tr>\n",
       "    <tr>\n",
       "      <th>3</th>\n",
       "      <td>8720</td>\n",
       "      <td>a</td>\n",
       "    </tr>\n",
       "    <tr>\n",
       "      <th>4</th>\n",
       "      <td>32730</td>\n",
       "      <td>a</td>\n",
       "    </tr>\n",
       "  </tbody>\n",
       "</table>\n",
       "</div>"
      ],
      "text/plain": [
       "   user_id label\n",
       "0    40130     a\n",
       "1    19368     a\n",
       "2    20841     a\n",
       "3     8720     a\n",
       "4    32730     a"
      ]
     },
     "execution_count": 5,
     "metadata": {},
     "output_type": "execute_result"
    }
   ],
   "source": [
    "labels_df = pd.read_csv(\"CL class project materials/umd_reddit_suicidewatch_dataset_v2/crowd/train/crowd_train.csv\")\n",
    "\n",
    "labels_df.head()"
   ]
  },
  {
   "cell_type": "code",
   "execution_count": 6,
   "metadata": {},
   "outputs": [
    {
     "data": {
      "text/html": [
       "<div>\n",
       "<style scoped>\n",
       "    .dataframe tbody tr th:only-of-type {\n",
       "        vertical-align: middle;\n",
       "    }\n",
       "\n",
       "    .dataframe tbody tr th {\n",
       "        vertical-align: top;\n",
       "    }\n",
       "\n",
       "    .dataframe thead th {\n",
       "        text-align: right;\n",
       "    }\n",
       "</style>\n",
       "<table border=\"1\" class=\"dataframe\">\n",
       "  <thead>\n",
       "    <tr style=\"text-align: right;\">\n",
       "      <th></th>\n",
       "      <th>post_id</th>\n",
       "      <th>user_id</th>\n",
       "      <th>timestamp</th>\n",
       "      <th>subreddit</th>\n",
       "      <th>post_title</th>\n",
       "      <th>post_body</th>\n",
       "    </tr>\n",
       "  </thead>\n",
       "  <tbody>\n",
       "    <tr>\n",
       "      <th>0</th>\n",
       "      <td>wfimt</td>\n",
       "      <td>22002</td>\n",
       "      <td>1342075703</td>\n",
       "      <td>GetMotivated</td>\n",
       "      <td>[real] motivation</td>\n",
       "      <td>This is my first post on reddit. Some time ago...</td>\n",
       "    </tr>\n",
       "    <tr>\n",
       "      <th>1</th>\n",
       "      <td>1bsqv3</td>\n",
       "      <td>22002</td>\n",
       "      <td>1365261010</td>\n",
       "      <td>leagueoflegends</td>\n",
       "      <td>simple question about transfering acc to anoth...</td>\n",
       "      <td>Hi.. What will happen with my ranked rating? I...</td>\n",
       "    </tr>\n",
       "    <tr>\n",
       "      <th>2</th>\n",
       "      <td>1buqml</td>\n",
       "      <td>22002</td>\n",
       "      <td>1365345637</td>\n",
       "      <td>seduction</td>\n",
       "      <td>_PERSON_ up ever (crosspost from r/GetMotivated</td>\n",
       "      <td>NaN</td>\n",
       "    </tr>\n",
       "    <tr>\n",
       "      <th>3</th>\n",
       "      <td>1dr0xf</td>\n",
       "      <td>22002</td>\n",
       "      <td>1367787358</td>\n",
       "      <td>leagueoflegends</td>\n",
       "      <td>simple question: Did you get unnbaned?</td>\n",
       "      <td>Hi. Simple question. Did you get unban from a ...</td>\n",
       "    </tr>\n",
       "    <tr>\n",
       "      <th>4</th>\n",
       "      <td>1e0noi</td>\n",
       "      <td>22002</td>\n",
       "      <td>1368125785</td>\n",
       "      <td>leagueoflegends</td>\n",
       "      <td>I can't win. Why... and it's noy my fault.</td>\n",
       "      <td>Hi... Am playing at Eu west... am diamond 5 ri...</td>\n",
       "    </tr>\n",
       "  </tbody>\n",
       "</table>\n",
       "</div>"
      ],
      "text/plain": [
       "  post_id  user_id   timestamp        subreddit  \\\n",
       "0   wfimt    22002  1342075703     GetMotivated   \n",
       "1  1bsqv3    22002  1365261010  leagueoflegends   \n",
       "2  1buqml    22002  1365345637        seduction   \n",
       "3  1dr0xf    22002  1367787358  leagueoflegends   \n",
       "4  1e0noi    22002  1368125785  leagueoflegends   \n",
       "\n",
       "                                          post_title  \\\n",
       "0                                  [real] motivation   \n",
       "1  simple question about transfering acc to anoth...   \n",
       "2    _PERSON_ up ever (crosspost from r/GetMotivated   \n",
       "3             simple question: Did you get unnbaned?   \n",
       "4         I can't win. Why... and it's noy my fault.   \n",
       "\n",
       "                                           post_body  \n",
       "0  This is my first post on reddit. Some time ago...  \n",
       "1  Hi.. What will happen with my ranked rating? I...  \n",
       "2                                                NaN  \n",
       "3  Hi. Simple question. Did you get unban from a ...  \n",
       "4  Hi... Am playing at Eu west... am diamond 5 ri...  "
      ]
     },
     "execution_count": 6,
     "metadata": {},
     "output_type": "execute_result"
    }
   ],
   "source": [
    "posts_df = pd.read_csv(\"CL class project materials/umd_reddit_suicidewatch_dataset_v2/crowd/train/shared_task_posts.csv\")\n",
    "\n",
    "posts_df.head()"
   ]
  },
  {
   "cell_type": "code",
   "execution_count": 7,
   "metadata": {},
   "outputs": [],
   "source": [
    "train_data = pd.merge(posts_df, labels_df, on=[\"user_id\"])\n",
    "train_data = train_data.drop([\"post_id\", \"timestamp\", \"subreddit\"], axis=1)\n",
    "train_data = train_data.dropna()\n",
    "train_data[\"binary_label\"] = train_data.label.map({\"a\" : 0, \"b\" : 0, \"c\" : 0, \"d\" : 1})"
   ]
  },
  {
   "cell_type": "code",
   "execution_count": 8,
   "metadata": {},
   "outputs": [
    {
     "data": {
      "text/plain": [
       "user_id         16601\n",
       "post_title      16601\n",
       "post_body       16601\n",
       "label           16601\n",
       "binary_label    16601\n",
       "dtype: int64"
      ]
     },
     "execution_count": 8,
     "metadata": {},
     "output_type": "execute_result"
    }
   ],
   "source": [
    "train_data.count()"
   ]
  },
  {
   "cell_type": "code",
   "execution_count": 9,
   "metadata": {},
   "outputs": [],
   "source": [
    "'''\n",
    "Add a \"features\" column which is unigram and bigram features\n",
    "'''\n",
    "stop_words = set(stopwords.words('english'))\n",
    "\n",
    "train_data['features'] = train_data['post_body'].apply(convert_lines_to_feature_strings, args=(stop_words, True))"
   ]
  },
  {
   "cell_type": "code",
   "execution_count": 10,
   "metadata": {},
   "outputs": [
    {
     "name": "stdout",
     "output_type": "stream",
     "text": [
      "\n",
      "More in negative\n",
      "\n",
      "More in postive\n"
     ]
    }
   ],
   "source": [
    "'''\n",
    "LLR implementation to include the N best uni/bigram features\n",
    "'''\n",
    "\n",
    "pos_counter = Counter()\n",
    "for post in train_data['features'][train_data['binary_label'] == 1]:\n",
    "    for x in post.split(' '):\n",
    "        pos_counter[x] += 1\n",
    "        \n",
    "neg_counter = Counter()\n",
    "for post in train_data['features'][train_data['binary_label'] == 0]:\n",
    "    for x in post.split(' '):\n",
    "        neg_counter[x] += 1\n",
    "\n",
    "import llr\n",
    "\n",
    "\n",
    "diff = llr.llr_compare(pos_counter, neg_counter)\n",
    "ranked = sorted(diff.items(), key=lambda x: x[1])\n",
    "\n",
    "N = 5000\n",
    "\n",
    "vocab = []\n",
    "\n",
    "print(\"\\nMore in negative\")\n",
    "for k,v in ranked[:N]:\n",
    "    vocab.append(k)\n",
    "\n",
    "print(\"\\nMore in postive\")\n",
    "for k,v in ranked[-N:]:\n",
    "    vocab.append(k)"
   ]
  },
  {
   "cell_type": "code",
   "execution_count": 11,
   "metadata": {},
   "outputs": [
    {
     "name": "stdout",
     "output_type": "stream",
     "text": [
      "Before resample counts: Counter({0: 9495, 1: 7106})\n",
      "After resample counts: Counter({0: 9495, 1: 9495})\n",
      "Classifying test data using LR\n",
      "Accuracy  = 0.7427593470247499\n",
      "Precision for label 0 = 0.6811671087533157\n",
      "Recall    for label 0 = 0.7734939759036145\n",
      "Precision for label 1 = 0.803450078410873\n",
      "Recall    for label 1 = 0.7188961646398503\n"
     ]
    }
   ],
   "source": [
    "X = train_data['features']\n",
    "y = train_data['binary_label']\n",
    "\n",
    "\n",
    "'''\n",
    "Vectorize data\n",
    "'''\n",
    "\n",
    "\n",
    "X_vec, training_vectorizer = convert_text_into_features(X, stopwords_arg= stop_words, analyzefn=whitespace_tokenizer, range=(1,2), vocabulary=vocab)\n",
    "X_emo = line_to_emotion_features(X, lexicon=lexicon, categories=[\"negative_emotion\", \"positive_emotion\"], normalize=False)\n",
    "X_ft = sparse.hstack((X_vec, X_emo))\n",
    "#X_ft = X_vec\n",
    "\n",
    "\n",
    "'''\n",
    "Resampling using SMOTE for imbalanced dataset\n",
    "'''\n",
    "X_resampled, y_resampled = SMOTE().fit_resample(X_ft, y)\n",
    "print(\"Before resample counts: {}\".format(Counter(y)))\n",
    "print(\"After resample counts: {}\".format(Counter(y_resampled)))\n",
    "\n",
    "\n",
    "X_train, X_test, y_train, y_test = train_test_split(X_resampled, y_resampled, test_size=0.2, random_state=42)\n",
    "\n",
    "lr_classifier = LogisticRegression(solver='liblinear')\n",
    "svc_classifier = SVC(kernel='linear')\n",
    "\n",
    "lr_classifier.fit(X_train, y_train)\n",
    "\n",
    "print(\"Classifying test data using LR\")\n",
    "predicted_labels = lr_classifier.predict(X_test)\n",
    "print('Accuracy  = {}'.format(metrics.accuracy_score(predicted_labels,  y_test)))\n",
    "for label in [0, 1]:\n",
    "    print('Precision for label {} = {}'.format(label, metrics.precision_score(predicted_labels, y_test, pos_label=label)))\n",
    "    print('Recall    for label {} = {}'.format(label, metrics.recall_score(predicted_labels,    y_test, pos_label=label)))\n",
    "    \n",
    "#metrics.plot_confusion_matrix(lr_classifier, X_train.toarray(), y_train)"
   ]
  },
  {
   "cell_type": "code",
   "execution_count": 12,
   "metadata": {},
   "outputs": [
    {
     "name": "stdout",
     "output_type": "stream",
     "text": [
      "accuracy scores = [0.7153669  0.72030273 0.72119816 0.71757735 0.72251481], mean = 0.7193919901495611, stdev = 0.0025821690999201755\n"
     ]
    }
   ],
   "source": [
    "'''\n",
    "K-Folds\n",
    "'''\n",
    "kfold = StratifiedKFold(n_splits=5, random_state=42, shuffle=True)\n",
    "accuracy_scores = cross_val_score(lr_classifier, X_train, y_train, scoring='accuracy', cv=kfold, n_jobs=-1)\n",
    "print(\"accuracy scores = {}, mean = {}, stdev = {}\".format(\n",
    "        accuracy_scores, np.mean(accuracy_scores), np.std(accuracy_scores)), flush=True)"
   ]
  },
  {
   "cell_type": "code",
   "execution_count": 13,
   "metadata": {},
   "outputs": [
    {
     "name": "stdout",
     "output_type": "stream",
     "text": [
      "Classifying test data using Random Forest\n",
      "Accuracy  = 0.6187467087941022\n",
      "Precision for label 0 = 0.5262599469496021\n",
      "Recall    for label 0 = 0.6412411118293472\n",
      "Precision for label 1 = 0.7098797699947726\n",
      "Recall    for label 1 = 0.6032874278098623\n",
      "accuracy scores = [0.61204344 0.64100033 0.62277814 0.62903226 0.62574062], mean = 0.6261189569608693, stdev = 0.009374081734716162\n"
     ]
    }
   ],
   "source": [
    "'''\n",
    "Random Forest Classifier\n",
    "'''\n",
    "rf_classifier = RandomForestClassifier(max_depth=4, random_state=0)\n",
    "\n",
    "rf_classifier.fit(X_train, y_train)\n",
    "\n",
    "print(\"Classifying test data using Random Forest\")\n",
    "predicted_labels = rf_classifier.predict(X_test)\n",
    "print('Accuracy  = {}'.format(metrics.accuracy_score(predicted_labels,  y_test)))\n",
    "for label in [0, 1]:\n",
    "    print('Precision for label {} = {}'.format(label, metrics.precision_score(predicted_labels, y_test, pos_label=label)))\n",
    "    print('Recall    for label {} = {}'.format(label, metrics.recall_score(predicted_labels,    y_test, pos_label=label)))\n",
    "    \n",
    "rf_classifier = RandomForestClassifier(max_depth=4, random_state=0)\n",
    "\n",
    "accuracy_scores = cross_val_score(rf_classifier, X_train, y_train, scoring='accuracy', cv=kfold, n_jobs=-1)\n",
    "print(\"accuracy scores = {}, mean = {}, stdev = {}\".format(\n",
    "        accuracy_scores, np.mean(accuracy_scores), np.std(accuracy_scores)), flush=True)"
   ]
  },
  {
   "cell_type": "code",
   "execution_count": 14,
   "metadata": {},
   "outputs": [
    {
     "name": "stdout",
     "output_type": "stream",
     "text": [
      "Classifying test data using Random Forest\n",
      "Accuracy  = 0.7630331753554502\n",
      "Precision for label 0 = 0.5522546419098143\n",
      "Recall    for label 0 = 0.9489516864175023\n",
      "Precision for label 1 = 0.970726607422896\n",
      "Recall    for label 1 = 0.6875231395779341\n"
     ]
    },
    {
     "data": {
      "text/plain": [
       "<sklearn.metrics._plot.confusion_matrix.ConfusionMatrixDisplay at 0x28e60674888>"
      ]
     },
     "execution_count": 14,
     "metadata": {},
     "output_type": "execute_result"
    },
    {
     "data": {
      "image/png": "[encoded data removed]",
      "text/plain": [
       "<Figure size 432x288 with 2 Axes>"
      ]
     },
     "metadata": {
      "needs_background": "light"
     },
     "output_type": "display_data"
    }
   ],
   "source": [
    "'''\n",
    "Naive Bayes\n",
    "'''\n",
    "from sklearn.naive_bayes import GaussianNB\n",
    "\n",
    "nb_classifier = GaussianNB()\n",
    "nb_classifier.fit(X_train.toarray(), y_train)\n",
    "\n",
    "print(\"Classifying test data using Random Forest\")\n",
    "predicted_labels = nb_classifier.predict(X_test.toarray())\n",
    "print('Accuracy  = {}'.format(metrics.accuracy_score(predicted_labels,  y_test)))\n",
    "for label in [0, 1]:\n",
    "    print('Precision for label {} = {}'.format(label, metrics.precision_score(predicted_labels, y_test, pos_label=label)))\n",
    "    print('Recall    for label {} = {}'.format(label, metrics.recall_score(predicted_labels,    y_test, pos_label=label)))\n",
    "\n",
    "    '''\n",
    "nb_classifier = GaussianNB()\n",
    "\n",
    "accuracy_scores = cross_val_score(nb_classifier, X_train.toarray(), y_train, scoring='accuracy', cv=kfold, n_jobs=-1)\n",
    "print(\"accuracy scores = {}, mean = {}, stdev = {}\".format(\n",
    "        accuracy_scores, np.mean(accuracy_scores), np.std(accuracy_scores)), flush=True)\n",
    "        '''\n",
    "    \n",
    "metrics.plot_confusion_matrix(nb_classifier, X_train.toarray(), y_train)"
   ]
  },
  {
   "cell_type": "code",
   "execution_count": 116,
   "metadata": {},
   "outputs": [
    {
     "name": "stdout",
     "output_type": "stream",
     "text": [
      "Classifying test data using SVC\n",
      "Accuracy  = 0.6648235913638757\n",
      "Precision for label 0 = 0.47586206896551725\n",
      "Recall    for label 0 = 0.7588832487309645\n",
      "Precision for label 1 = 0.851019341348667\n",
      "Recall    for label 1 = 0.6223241590214067\n",
      "accuracy scores = [0.65712405 0.65876933 0.64845293 0.64812377 0.65371955], mean = 0.6532379267027003, stdev = 0.0043584684051423935\n"
     ]
    }
   ],
   "source": [
    "svc_classifier.fit(X_train, y_train)\n",
    "\n",
    "print(\"Classifying test data using SVC\")\n",
    "predicted_labels = svc_classifier.predict(X_test)\n",
    "print('Accuracy  = {}'.format(metrics.accuracy_score(predicted_labels,  y_test)))\n",
    "for label in [0, 1]:\n",
    "    print('Precision for label {} = {}'.format(label, metrics.precision_score(predicted_labels, y_test, pos_label=label)))\n",
    "    print('Recall    for label {} = {}'.format(label, metrics.recall_score(predicted_labels,    y_test, pos_label=label)))\n",
    "    \n",
    "svc_classifier = SVC(kernel='linear')\n",
    "\n",
    "accuracy_scores = cross_val_score(svc_classifier, X_train, y_train, scoring='accuracy', cv=kfold, n_jobs=-1)\n",
    "print(\"accuracy scores = {}, mean = {}, stdev = {}\".format(\n",
    "        accuracy_scores, np.mean(accuracy_scores), np.std(accuracy_scores)), flush=True)"
   ]
  }
 ],
 "metadata": {
  "kernelspec": {
   "display_name": "Python 3",
   "language": "python",
   "name": "python3"
  },
  "language_info": {
   "codemirror_mode": {
    "name": "ipython",
    "version": 3
   },
   "file_extension": ".py",
   "mimetype": "text/x-python",
   "name": "python",
   "nbconvert_exporter": "python",
   "pygments_lexer": "ipython3",
   "version": "3.7.7"
  }
 },
 "nbformat": 4,
 "nbformat_minor": 4
}
